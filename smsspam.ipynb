{
  "cells": [
    {
      "metadata": {
        "_uuid": "8f2839f25d086af736a60e9eeb907d3b93b6e0e5",
        "_cell_guid": "b1076dfc-b9ad-4769-8c92-a6c4dae69d19",
        "trusted": true
      },
      "cell_type": "code",
      "source": "# This Python 3 environment comes with many helpful analytics libraries installed\n# It is defined by the kaggle/python docker image: https://github.com/kaggle/docker-python\n# For example, here's several helpful packages to load in \n\nimport numpy as np # linear algebra\nimport pandas as pd # data processing, CSV file I/O (e.g. pd.read_csv)\n\n# Input data files are available in the \"../input/\" directory.\n# For example, running this (by clicking run or pressing Shift+Enter) will list the files in the input directory\n\nimport os\nprint(os.listdir(\"../input\"))\n\n# Any results you write to the current directory are saved as output.",
      "execution_count": null,
      "outputs": []
    },
    {
      "metadata": {
        "_cell_guid": "79c7e3d0-c299-4dcb-8224-4455121ee9b0",
        "collapsed": true,
        "_uuid": "d629ff2d2480ee46fbb7e2d37f6b5fab8052498a",
        "trusted": true
      },
      "cell_type": "code",
      "source": "import pandas as pd\nimport numpy as np\nfrom sklearn.model_selection import train_test_split\nfrom sklearn.naive_bayes import MultinomialNB\nfrom sklearn.feature_extraction.text import CountVectorizer,TfidfVectorizer",
      "execution_count": null,
      "outputs": []
    },
    {
      "metadata": {
        "trusted": true,
        "_uuid": "d92177d116db90b3c218f9fa1483f4c9f96894c1",
        "collapsed": true
      },
      "cell_type": "code",
      "source": "df = pd.read_csv('../input/sms.csv',sep='\\t',names=['label','message'])",
      "execution_count": null,
      "outputs": []
    },
    {
      "metadata": {
        "trusted": true,
        "_uuid": "6cd3703e0a0c40e3f6875a3d87017c5d87913b68"
      },
      "cell_type": "code",
      "source": "df.head()",
      "execution_count": null,
      "outputs": []
    },
    {
      "metadata": {
        "trusted": true,
        "_uuid": "8b87a03865b36c50ac13e98d90d69724ec61d9f1"
      },
      "cell_type": "code",
      "source": "len(df)",
      "execution_count": null,
      "outputs": []
    },
    {
      "metadata": {
        "trusted": true,
        "_uuid": "1f27bfbd055198b0a2713487e7e9a24ce504a835"
      },
      "cell_type": "code",
      "source": "len(df[df.label == 'spam'])",
      "execution_count": null,
      "outputs": []
    },
    {
      "metadata": {
        "trusted": true,
        "_uuid": "2c1769184425e66a2c0d193aacf1fb6a3db97ee5",
        "collapsed": true
      },
      "cell_type": "code",
      "source": "df.loc[df['label'] == 'ham', 'label'] = 1\ndf.loc[df['label'] == 'spam', 'label'] = 0",
      "execution_count": null,
      "outputs": []
    },
    {
      "metadata": {
        "trusted": true,
        "_uuid": "65e12af811aad7e5406b6b0a6f0a63b37cbed3c1",
        "collapsed": true
      },
      "cell_type": "code",
      "source": "df_x = df['message']\ndf_y = df['label']",
      "execution_count": null,
      "outputs": []
    },
    {
      "metadata": {
        "trusted": true,
        "_uuid": "11ee424e49020e8ecde70e5aee8cd7de7c54b2f6"
      },
      "cell_type": "code",
      "source": "df.head()",
      "execution_count": null,
      "outputs": []
    },
    {
      "metadata": {
        "trusted": true,
        "_uuid": "3fb932901253996485a8af26203c889544801e5f"
      },
      "cell_type": "code",
      "source": "df_x",
      "execution_count": null,
      "outputs": []
    },
    {
      "metadata": {
        "trusted": true,
        "_uuid": "74c45edf20c04eac025ae55eb61c2373bc2dbe9c"
      },
      "cell_type": "code",
      "source": "df_y",
      "execution_count": null,
      "outputs": []
    },
    {
      "metadata": {
        "trusted": true,
        "collapsed": true,
        "_uuid": "10711b6fd1f5aac2b52ef0fcbe06dd5df019a148"
      },
      "cell_type": "code",
      "source": "tf = TfidfVectorizer(min_df=1,stop_words='english')",
      "execution_count": null,
      "outputs": []
    },
    {
      "metadata": {
        "trusted": true,
        "collapsed": true,
        "_uuid": "f7f7781c996f5ced65c4bac1d260030c10462307"
      },
      "cell_type": "code",
      "source": "X_train, X_test, y_train, y_test = train_test_split(df_x, df_y, test_size=0.3)",
      "execution_count": null,
      "outputs": []
    },
    {
      "metadata": {
        "trusted": true,
        "_uuid": "4ab36d234b282bb7558353e9b00df002a2fcbcab"
      },
      "cell_type": "code",
      "source": "X_traincv = tf.fit_transform(['Hi, how are you?, how are you doing?, haha'])\nX_traincv.toarray()",
      "execution_count": null,
      "outputs": []
    },
    {
      "metadata": {
        "trusted": true,
        "_uuid": "1100fde2adcaa693a6f8b09b988c452b2f126d7a"
      },
      "cell_type": "code",
      "source": "tf.get_feature_names()",
      "execution_count": null,
      "outputs": []
    },
    {
      "metadata": {
        "trusted": true,
        "collapsed": true,
        "_uuid": "622a0ff1a1e946a89739eb0af4e056cc37005dd7"
      },
      "cell_type": "code",
      "source": "tf1 = TfidfVectorizer(min_df=1,stop_words='english')",
      "execution_count": null,
      "outputs": []
    },
    {
      "metadata": {
        "trusted": true,
        "_uuid": "f6a320e0e3872975dfd4ae85ff2942049eb9cf2e"
      },
      "cell_type": "code",
      "source": "X_traincv = tf1.fit_transform(X_train)",
      "execution_count": null,
      "outputs": []
    },
    {
      "metadata": {
        "trusted": true,
        "collapsed": true,
        "_uuid": "dbd3ec623937e38b3725dad822b6a32e13545f1b"
      },
      "cell_type": "code",
      "source": "a = X_traincv.toarray()",
      "execution_count": null,
      "outputs": []
    },
    {
      "metadata": {
        "trusted": true,
        "_uuid": "e65d8e838b9980d741e1a5de69135f32ed9a5665"
      },
      "cell_type": "code",
      "source": "a",
      "execution_count": null,
      "outputs": []
    },
    {
      "metadata": {
        "trusted": true,
        "_uuid": "3156b5913db87902fd48a431ced43f3bbb1d7f80",
        "collapsed": true
      },
      "cell_type": "code",
      "source": "mnb = MultinomialNB()",
      "execution_count": null,
      "outputs": []
    },
    {
      "metadata": {
        "trusted": true,
        "collapsed": true,
        "_uuid": "8ed2a69e5e4c6c95fde16badbe607b4a99650006"
      },
      "cell_type": "code",
      "source": "y_train = y_train.astype('int')",
      "execution_count": null,
      "outputs": []
    },
    {
      "metadata": {
        "trusted": true,
        "_uuid": "0c4c04c213370c65bd33af2332c53c3c935d891b"
      },
      "cell_type": "code",
      "source": "mnb.fit(X_traincv,y_train)",
      "execution_count": null,
      "outputs": []
    },
    {
      "metadata": {
        "trusted": true,
        "_uuid": "08ce1f035e49235431e13c0b8e85aa7c52c67668"
      },
      "cell_type": "code",
      "source": "X_testcv = tf1.transform(X_test)",
      "execution_count": null,
      "outputs": []
    },
    {
      "metadata": {
        "trusted": true,
        "_uuid": "7986c5817cc1f5591ca12ba5e7d140286b8e2397"
      },
      "cell_type": "code",
      "source": "count = 0\npred = mnb.predict(X_testcv)\nactual = np.array(y_test)\nfor i in range(len(pred)):\n    if(pred[i] == actual[i]):\n        count += 1\nprint(\"Accuracy = \",count/len(pred))",
      "execution_count": null,
      "outputs": []
    },
    {
      "metadata": {
        "trusted": true,
        "collapsed": true,
        "_uuid": "8a4a9eb9dd5734fb7d410ae01da8b8a98feba6fd"
      },
      "cell_type": "code",
      "source": "",
      "execution_count": null,
      "outputs": []
    }
  ],
  "metadata": {
    "kernelspec": {
      "display_name": "Python 3",
      "language": "python",
      "name": "python3"
    },
    "language_info": {
      "name": "python",
      "version": "3.6.6",
      "mimetype": "text/x-python",
      "codemirror_mode": {
        "name": "ipython",
        "version": 3
      },
      "pygments_lexer": "ipython3",
      "nbconvert_exporter": "python",
      "file_extension": ".py"
    }
  },
  "nbformat": 4,
  "nbformat_minor": 1
}